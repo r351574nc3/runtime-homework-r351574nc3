{
 "cells": [
  {
   "cell_type": "markdown",
   "metadata": {},
   "source": [
    "<img src=\"https://cdn-images-1.medium.com/max/1600/1*fIjRtO5P8zc3pjs0E5hYkw.png\">"
   ]
  },
  {
   "cell_type": "markdown",
   "metadata": {},
   "source": [
    "Back to the main [Index](../Index.ipynb)"
   ]
  },
  {
   "cell_type": "markdown",
   "metadata": {},
   "source": [
    "# Support Cases"
   ]
  },
  {
   "cell_type": "markdown",
   "metadata": {},
   "source": [
    ""
   ]
  },
  {
   "cell_type": "markdown",
   "metadata": {},
   "source": [
    "## Results"
   ]
  },
  {
   "cell_type": "markdown",
   "metadata": {},
   "source": [
       "Values for each support case that represents the amount of hours where both the `state` is `open` and the `team` is `Runtime`"
   ]
  },
  {
   "cell_type": "code",
   "execution_count": 1,
   "metadata": {
    "collapsed": false
   },
   "outputs": [
    {
     "data": {
      "text/plain": [
       "[{\"case_id\":100,\"duration\":150},{\"case_id\":102,\"duration\":1},{\"case_id\":103,\"duration\":23},{\"case_id\":104,\"duration\":59}]"
      ]
     },
     "execution_count": 2,
     "metadata": {},
     "output_type": "execute_result"
    }
   ],
   "source": [
    "%%javascript\n",
    "[\n",
    "  {\"case_id\": 102, \"state\": {\"from\": null, \"to\": \"open\"}, \"timestamp\": \"2017-01-09T03:00:00Z\"},\n",
    "  {\"case_id\": 100, \"state\": {\"from\": null, \"to\": \"open\"}, \"timestamp\": \"2017-01-01T00:00:00Z\"},\n",
    "  {\"case_id\": 101, \"state\": {\"from\": null, \"to\": \"open\"}, \"timestamp\": \"2017-01-05T10:00:00Z\"},\n",
    "  {\"case_id\": 100, \"assignee\": \"Otter\", \"team\": \"Support\", \"timestamp\": \"2017-01-01T00:00:00Z\"},\n",
    "  {\"case_id\": 100, \"assignee\": \"Rabbit\", \"team\": \"Runtime\", \"timestamp\": \"2017-01-02T15:00:00Z\"},\n",
    "  {\"case_id\": 102, \"state\": {\"from\": \"open\", \"to\": \"pending\"}, \"timestamp\": \"2017-01-09T11:00:00Z\"},\n",
    "  {\"case_id\": 100, \"state\": {\"from\": \"open\", \"to\": \"pending\"}, \"timestamp\": \"2017-01-02T16:00:00Z\"},\n",
    "  {\"case_id\": 100, \"state\": {\"from\": \"pending\", \"to\": \"open\"}, \"timestamp\": \"2017-01-07T06:00:00Z\"},\n",
    "  {\"case_id\": 104, \"state\": {\"from\": null, \"to\": \"open\"}, \"timestamp\": \"2017-01-13T06:00:00Z\"},\n",
    "  {\"case_id\": 100, \"state\": {\"from\": \"open\", \"to\": \"closed\"}, \"timestamp\": \"2017-01-08T06:00:00Z\"},\n",
    "  {\"case_id\": 102, \"assignee\": \"Rabbit\", \"team\": \"Runtime\", \"timestamp\": \"2017-01-10T06:00:00Z\"},\n",
    "  {\"case_id\": 101, \"assignee\": \"Otter\", \"team\": \"Support\", \"timestamp\": \"2017-01-05T10:00:00Z\"},\n",
    "  {\"case_id\": 103, \"state\": {\"from\": null, \"to\": \"open\"}, \"timestamp\": \"2017-01-11T19:00:00Z\"},\n",
    "  {\"case_id\": 102, \"state\": {\"from\": \"pending\", \"to\": \"open\"}, \"timestamp\": \"2017-01-10T07:00:00Z\"},\n",
    "  {\"case_id\": 102, \"state\": {\"from\": \"open\", \"to\": \"closed\"}, \"timestamp\": \"2017-01-21T11:00:00Z\"},\n",
    "  {\"case_id\": 103, \"assignee\": \"Rabbit\", \"team\": \"Runtime\", \"timestamp\": \"2017-01-11T22:00:00Z\"},\n",
    "  {\"case_id\": 101, \"state\": {\"from\": \"open\", \"to\": \"closed\"}, \"timestamp\": \"2017-01-05T23:00:00Z\"},\n",
    "  {\"case_id\": 103, \"assignee\": \"Otter\", \"team\": \"Support\", \"timestamp\": \"2017-01-12T02:00:00Z\"},\n",
    "  {\"case_id\": 104, \"assignee\": \"Otter\", \"team\": \"Support\", \"timestamp\": \"2017-01-13T13:00:00Z\"},\n",
    "  {\"case_id\": 103, \"assignee\": \"Rabbit\", \"team\": \"Runtime\", \"timestamp\": \"2017-01-12T15:00:00Z\"},\n",
    "  {\"case_id\": 103, \"state\": {\"from\": \"open\", \"to\": \"closed\"}, \"timestamp\": \"2017-01-16T19:00:00Z\"},\n",
    "  {\"case_id\": 104, \"assignee\": \"Rabbit\", \"team\": \"Runtime\", \"timestamp\": \"2017-01-13T15:00:00Z\"},\n",
    "  {\"case_id\": 104, \"assignee\": \"Badger\", \"team\": \"Runtime\", \"timestamp\": \"2017-01-15T08:00:00Z\"},\n",
    "  {\"case_id\": 104, \"assignee\": \"Otter\", \"team\": \"Support\", \"timestamp\": \"2017-01-15T12:00:00Z\"}\n",
    "]"
    ]
  }
 ],
 "metadata": {
  "kernelspec": {
   "display_name": "Python 3",
   "language": "python",
   "name": "python3"
  },
  "language_info": {
   "codemirror_mode": {
    "name": "ipython",
    "version": 3
   },
   "file_extension": ".py",
   "mimetype": "text/x-python",
   "name": "python",
   "nbconvert_exporter": "python",
   "pygments_lexer": "ipython3",
   "version": "3.4.3"
  }
 },
 "nbformat": 4,
 "nbformat_minor": 0
}