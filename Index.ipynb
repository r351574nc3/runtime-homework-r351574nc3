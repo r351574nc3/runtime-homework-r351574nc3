{
 "cells": [
  {
   "cell_type": "markdown",
   "metadata": {},
   "source": [
    "<img src=\"https://cdn-images-1.medium.com/max/1600/1*fIjRtO5P8zc3pjs0E5hYkw.png\">"
   ]
  },
  {
   "cell_type": "markdown",
   "metadata": {},
   "source": [
    "# Homework"
   ]
  },
  {
   "cell_type": "markdown",
   "metadata": {},
   "source": [
    ""
   ]
  },
  {
   "cell_type": "markdown",
   "metadata": {},
   "source": [
    "## Building"
   ]
  },
  {
   "cell_type": "markdown",
   "metadata": {},
   "source": [
    "Instructions for building the web service"
   ]
  },
  {
   "cell_type": "code",
   "execution_count": 1,
   "metadata": {
    "collapsed": false
   },
   "outputs": [
    {
     "name": "stdout",
     "output_type": "stream",
     "text": [
        "Sending build context to Docker daemon   89.6kB\n",
        "Step 1/4 : FROM r351574nc3/bazel-onbuild:latest\n",
        "# Executing 2 build triggers\n",
        " ---> Running in 373680381d4c\n",
        "Starting local Bazel server and connecting to it...\n",
        ".................................\n",
        "Loading: \n",
        "Loading: 0 packages loaded\n",
        "Loading: 0 packages loaded\n",
        "Loading: 0 packages loaded\n",
        "Analyzing: target //cmd:cmd (2 packages loaded)\n",
        "Analyzing: target //cmd:cmd (2 packages loaded)\n",
        "Analyzing: target //cmd:cmd (6 packages loaded)\n",
        "Analyzing: target //cmd:cmd (12 packages loaded)\n",
        "Analyzing: target //cmd:cmd (12 packages loaded)\n",
        "Analyzing: target //cmd:cmd (13 packages loaded)\n",
        "Analyzing: target //cmd:cmd (13 packages loaded)\n",
        "Analyzing: target //cmd:cmd (13 packages loaded)\n",
        "INFO: SHA256 (https://codeload.github.com/bazelbuild/buildtools/zip/799e530642bac55de7e76728fa0c3161484899f6) = ea23bbec9e86205b71ef647e1755ae0ec400aa76aeb5d13913d3fc3a37afbb5f\n",
        "Analyzing: target //cmd:cmd (16 packages loaded)\n",
        "INFO: SHA256 (https://codeload.github.com/golang/tools/zip/5d2fd3ccab986d52112bf301d47a819783339d0e) = 31c4b514df1b40d7ade2e6f824dca35a36d9454983e7955074ac6f47f1eb3292\n",
        "Analyzing: target //cmd:cmd (16 packages loaded)\n",
        "Analyzing: target //cmd:cmd (26 packages loaded)\n",
        "INFO: Analysed target //cmd:cmd (30 packages loaded).\n",
        "INFO: Found 1 target...\n",
        "[0 / 3] [-----] Creating source manifest for //cmd:cmd\n",
        "[15 / 32] GoLink external/io_bazel_rules_go/go/tools/builders/linux_amd64_stripped/compile [for host]; 0s processwrapper-sandbox ... (2 actions, 1 running)\n",
        "[16 / 34] GoStdlib external/io_bazel_rules_go/linux_amd64_stripped/stdlib~/pkg; 6s processwrapper-sandbox\n",
        "[16 / 34] GoStdlib external/io_bazel_rules_go/linux_amd64_stripped/stdlib~/pkg; 12s processwrapper-sandbox\n",
        "[34 / 34] no action\n",
        "Target //cmd:cmd up-to-date:\n",
        "  bazel-bin/cmd/linux_amd64_stripped/cmd\n",
        "INFO: Elapsed time: 56.920s, Critical Path: 19.84s\n",
        "INFO: 29 processes: 3 local, 26 processwrapper-sandbox.\n",
        "INFO: Build completed successfully, 34 total actions\n",
        "INFO: Build completed successfully, 34 total actions\n",
        "Removing intermediate container 373680381d4c\n",
        " ---> 4c4fcc828082\n",
        "Step 3/4 : EXPOSE 3000\n",
        " ---> Running in 0603100b564a\n",
        "Removing intermediate container 0603100b564a\n",
        " ---> 57597a9cd750\n",
        "Successfully built b9ca837a8093\n",
        "Successfully tagged runtime-homework-r351574nc3:latest"
     ]
    }
   ],
   "source": [
    "%%bash\n",
    "docker build -t runtime-homework-r351574nc3 ."
   ]
  },
  {
   "cell_type": "markdown",
   "metadata": {},
   "source": [
    "## Usage"
   ]
  },
  {
   "cell_type": "markdown",
   "metadata": {},
   "source": [
    "Instructions for running the web service locally"
   ]
  },
  {
   "cell_type": "code",
   "execution_count": 1,
   "metadata": {
    "collapsed": false
   },
   "outputs": [
    {
     "name": "stdout",
     "output_type": "stream",
     "text": [
         ""
     ]
    }
   ],
   "source": [
    "%%bash\n",
    "docker run --rm -p 3000:3000 runtime-homework-r351574nc3"
   ]
  }
 ],
 "metadata": {
  "kernelspec": {
   "display_name": "Python 3",
   "language": "python",
   "name": "python3"
  },
  "language_info": {
   "codemirror_mode": {
    "name": "ipython",
    "version": 3
   },
   "file_extension": ".py",
   "mimetype": "text/x-python",
   "name": "python",
   "nbconvert_exporter": "python",
   "pygments_lexer": "ipython3",
   "version": "3.4.3"
  }
 },
 "nbformat": 4,
 "nbformat_minor": 0
}