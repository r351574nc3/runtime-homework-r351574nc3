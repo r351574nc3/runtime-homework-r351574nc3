{
 "cells": [
  {
   "cell_type": "markdown",
   "metadata": {},
   "source": [
    "<img src=\"https://cdn-images-1.medium.com/max/1600/1*fIjRtO5P8zc3pjs0E5hYkw.png\">"
   ]
  },
  {
   "cell_type": "markdown",
   "metadata": {},
   "source": [
    "# Homework"
   ]
  },
  {
   "cell_type": "markdown",
   "metadata": {},
   "source": [
    ""
   ]
  },
  {
   "cell_type": "markdown",
   "metadata": {},
   "source": [
    "## Building"
   ]
  },
  {
   "cell_type": "markdown",
   "metadata": {},
   "source": [
    "The service is built inside of a docker container using Bazel.\n\n",
    "Below are instructions for building the web service."
   ]
  },
  {
   "cell_type": "code",
   "execution_count": 1,
   "metadata": {
    "collapsed": false
   },
   "outputs": [
    {
     "name": "stdout",
     "output_type": "stream",
     "text": [
        "Sending build context to Docker daemon   89.6kB\n",
        "Step 1/4 : FROM r351574nc3/bazel-onbuild:latest\n",
        "# Executing 2 build triggers\n",
        " ---> Running in 373680381d4c\n",
        "Starting local Bazel server and connecting to it...\n",
        ".................................\n",
        "Loading: \n",
        "Loading: 0 packages loaded\n",
        "Loading: 0 packages loaded\n",
        "Loading: 0 packages loaded\n",
        "Analyzing: target //cmd:cmd (2 packages loaded)\n",
        "Analyzing: target //cmd:cmd (2 packages loaded)\n",
        "Analyzing: target //cmd:cmd (6 packages loaded)\n",
        "Analyzing: target //cmd:cmd (12 packages loaded)\n",
        "Analyzing: target //cmd:cmd (12 packages loaded)\n",
        "Analyzing: target //cmd:cmd (13 packages loaded)\n",
        "Analyzing: target //cmd:cmd (13 packages loaded)\n",
        "Analyzing: target //cmd:cmd (13 packages loaded)\n",
        "INFO: SHA256 (https://codeload.github.com/bazelbuild/buildtools/zip/799e530642bac55de7e76728fa0c3161484899f6) = ea23bbec9e86205b71ef647e1755ae0ec400aa76aeb5d13913d3fc3a37afbb5f\n",
        "Analyzing: target //cmd:cmd (16 packages loaded)\n",
        "INFO: SHA256 (https://codeload.github.com/golang/tools/zip/5d2fd3ccab986d52112bf301d47a819783339d0e) = 31c4b514df1b40d7ade2e6f824dca35a36d9454983e7955074ac6f47f1eb3292\n",
        "Analyzing: target //cmd:cmd (16 packages loaded)\n",
        "Analyzing: target //cmd:cmd (26 packages loaded)\n",
        "INFO: Analysed target //cmd:cmd (30 packages loaded).\n",
        "INFO: Found 1 target...\n",
        "[0 / 3] [-----] Creating source manifest for //cmd:cmd\n",
        "[15 / 32] GoLink external/io_bazel_rules_go/go/tools/builders/linux_amd64_stripped/compile [for host]; 0s processwrapper-sandbox ... (2 actions, 1 running)\n",
        "[16 / 34] GoStdlib external/io_bazel_rules_go/linux_amd64_stripped/stdlib~/pkg; 6s processwrapper-sandbox\n",
        "[16 / 34] GoStdlib external/io_bazel_rules_go/linux_amd64_stripped/stdlib~/pkg; 12s processwrapper-sandbox\n",
        "[34 / 34] no action\n",
        "Target //cmd:cmd up-to-date:\n",
        "  bazel-bin/cmd/linux_amd64_stripped/cmd\n",
        "INFO: Elapsed time: 56.920s, Critical Path: 19.84s\n",
        "INFO: 29 processes: 3 local, 26 processwrapper-sandbox.\n",
        "INFO: Build completed successfully, 34 total actions\n",
        "INFO: Build completed successfully, 34 total actions\n",
        "Removing intermediate container 373680381d4c\n",
        " ---> 4c4fcc828082\n",
        "Step 3/4 : EXPOSE 3000\n",
        " ---> Running in 0603100b564a\n",
        "Removing intermediate container 0603100b564a\n",
        " ---> 57597a9cd750\n",
        "Successfully built b9ca837a8093\n",
        "Successfully tagged runtime-homework-r351574nc3:latest"
     ]
    }
   ],
   "source": [
    "%%bash\n",
    "docker build -t runtime-homework-r351574nc3 ."
   ]
  },
  {
   "cell_type": "markdown",
   "metadata": {},
   "source": [
    "## Usage"
   ]
  },
  {
   "cell_type": "markdown",
   "metadata": {},
   "source": [
    "Instructions for running the web service locally"
   ]
  },
  {
   "cell_type": "code",
   "execution_count": 2,
   "metadata": {
    "collapsed": false
   },
   "outputs": [
    {
     "data": {
      "text/plain": [
        "[GIN-debug] [WARNING] Creating an Engine instance with the Logger and Recovery middleware already attached.\n",
        "\n",
        "[GIN-debug] [WARNING] Running in \"debug\" mode. Switch to \"release\" mode in production.\n",
        " - using env:  export GIN_MODE=release\n",
        " - using code: gin.SetMode(gin.ReleaseMode)\n",
        "\n",
        "[GIN-debug] POST   /cases                    --> main.createRouter.func1 (3 handlers)\n",
        "[GIN-debug] Listening and serving HTTP on :8080\n"
      ]
     },
     "execution_count": 2,
     "metadata": {},
     "output_type": "execute_result"
    }
   ],
   "source": [
    "%%bash\n",
    "docker run --rm -p 8080:8080 runtime-homework-r351574nc3"
   ]
  },
  {
   "cell_type": "markdown",
   "metadata": {},
   "source": [
    "## Results"
   ]
  },
  {
   "cell_type": "markdown",
   "metadata": {},
   "source": [
    "See [Support Cases](./Support Cases/Index.ipynb) page for runtime results and testing"
   ]
  },
  {
   "cell_type": "markdown",
   "metadata": {},
   "source": [
    "## Solution"
   ]
  },
  {
   "cell_type": "markdown",
   "metadata": {},
   "source": [
    "Originally, I tried to solve the problem natively in javascript because the data was in javascript. My instinct was to manipulate with map reduce and see what came out. This is what I came up with"
   ]
  },
  {
   "cell_type": "code",
   "execution_count": 3,
   "metadata": {
    "collapsed": false
   },
   "outputs": [],
   "source": [
    "%%javascript\n",
    "const support_cases = [\n",
    "  {\"case_id\": 102, \"state\": {\"from\": null, \"to\": \"open\"}, \"timestamp\": \"2017-01-09T03:00:00Z\"},\n",
    "  {\"case_id\": 100, \"state\": {\"from\": null, \"to\": \"open\"}, \"timestamp\": \"2017-01-01T00:00:00Z\"},\n",
    "  {\"case_id\": 101, \"state\": {\"from\": null, \"to\": \"open\"}, \"timestamp\": \"2017-01-05T10:00:00Z\"},\n",
    "  {\"case_id\": 100, \"assignee\": \"Otter\", \"team\": \"Support\", \"timestamp\": \"2017-01-01T00:00:00Z\"},\n",
    "  {\"case_id\": 100, \"assignee\": \"Rabbit\", \"team\": \"Runtime\", \"timestamp\": \"2017-01-02T15:00:00Z\"},\n",
    "  {\"case_id\": 102, \"state\": {\"from\": \"open\", \"to\": \"pending\"}, \"timestamp\": \"2017-01-09T11:00:00Z\"},\n",
    "  {\"case_id\": 100, \"state\": {\"from\": \"open\", \"to\": \"pending\"}, \"timestamp\": \"2017-01-02T16:00:00Z\"},\n",
    "  {\"case_id\": 100, \"state\": {\"from\": \"pending\", \"to\": \"open\"}, \"timestamp\": \"2017-01-07T06:00:00Z\"},\n",
    "  {\"case_id\": 104, \"state\": {\"from\": null, \"to\": \"open\"}, \"timestamp\": \"2017-01-13T06:00:00Z\"},\n",
    "  {\"case_id\": 100, \"state\": {\"from\": \"open\", \"to\": \"closed\"}, \"timestamp\": \"2017-01-08T06:00:00Z\"},\n",
    "  {\"case_id\": 102, \"assignee\": \"Rabbit\", \"team\": \"Runtime\", \"timestamp\": \"2017-01-10T06:00:00Z\"},\n",
    "  {\"case_id\": 101, \"assignee\": \"Otter\", \"team\": \"Support\", \"timestamp\": \"2017-01-05T10:00:00Z\"},\n",
    "  {\"case_id\": 103, \"state\": {\"from\": null, \"to\": \"open\"}, \"timestamp\": \"2017-01-11T19:00:00Z\"},\n",
    "  {\"case_id\": 102, \"state\": {\"from\": \"pending\", \"to\": \"open\"}, \"timestamp\": \"2017-01-10T07:00:00Z\"},\n",
    "  {\"case_id\": 102, \"state\": {\"from\": \"open\", \"to\": \"closed\"}, \"timestamp\": \"2017-01-21T11:00:00Z\"},\n",
    "  {\"case_id\": 103, \"assignee\": \"Rabbit\", \"team\": \"Runtime\", \"timestamp\": \"2017-01-11T22:00:00Z\"},\n",
    "  {\"case_id\": 101, \"state\": {\"from\": \"open\", \"to\": \"closed\"}, \"timestamp\": \"2017-01-05T23:00:00Z\"},\n",
    "  {\"case_id\": 103, \"assignee\": \"Otter\", \"team\": \"Support\", \"timestamp\": \"2017-01-12T02:00:00Z\"},\n",
    "  {\"case_id\": 104, \"assignee\": \"Otter\", \"team\": \"Support\", \"timestamp\": \"2017-01-13T13:00:00Z\"},\n",
    "  {\"case_id\": 103, \"assignee\": \"Rabbit\", \"team\": \"Runtime\", \"timestamp\": \"2017-01-12T15:00:00Z\"},\n",
    "  {\"case_id\": 103, \"state\": {\"from\": \"open\", \"to\": \"closed\"}, \"timestamp\": \"2017-01-16T19:00:00Z\"},\n",
    "  {\"case_id\": 104, \"assignee\": \"Rabbit\", \"team\": \"Runtime\", \"timestamp\": \"2017-01-13T15:00:00Z\"},\n",
    "  {\"case_id\": 104, \"assignee\": \"Badger\", \"team\": \"Runtime\", \"timestamp\": \"2017-01-15T08:00:00Z\"},\n",
    "  {\"case_id\": 104, \"assignee\": \"Otter\", \"team\": \"Support\", \"timestamp\": \"2017-01-15T12:00:00Z\"}\n",
    "].sort((a, b) => {\n",
    "    return new Date(a.timestamp) - new Date(b.timestamp)\n",
    "})\n",
    "console.log(\"Sorted data: \", support_cases)\n",
    "function isOpening(state) {\n",
    "    return state && state.to === \"open\"\n",
    "}\n",
    "function isUnopening(state) {\n",
    "    return state && state.from === \"open\"\n",
    "}\n",
    "function isRuntime(case_id) {\n",
    "    return last_team_index[case_id] && last_team_index[case_id] === \"Runtime\"\n",
    "}\n",
    "function isOpen(case_id) {\n",
    "    return last_state_index[case_id] && last_state_index[case_id].name === \"open\"\n",
    "}\n",
    "let last_state_index = [\n",
    "]\n",
    "let last_team_index = []\n",
    "let transitions = support_cases\n",
    "    .filter((event) => isOpening(event.state) || isUnopening(event.state) || event.team)\n",
    "    .map((event) => {\n",
    "        let last_state = last_state_index[event.case_id] ? last_state_index[event.case_id] : {}\n",
    "        // Current state matches filter and we're changing\n",
    "        if (isRuntime(event.case_id) && isOpen(event.case_id)) {\n",
    "            if (isUnopening(event.state) || (event.team && event.team !== \"Runtime\")) {\n",
    "                return {\n",
    "                    \"case_id\": event.case_id,\n",
    "                    \"ts_from\": last_state.timestamp,\n",
    "                    \"ts_to\": event.timestamp\n",
    "                }\n",
    "            }\n",
    "            return null // state change isn't important\n",
    "        }\n",
    "        if (event.team) {\n",
    "            last_team_index[event.case_id] = event.team\n",
    "            // If the case is currently open, need to record this to the index\n",
    "            if (isOpen(event.case_id) && isRuntime(event.case_id)) {\n",
    "                last_state_index[event.case_id].timestamp = event.timestamp\n",
    "            }\n",
    "            \n",
    "            return null\n",
    "        }\n",
    "        if (event.state) {\n",
    "            if (isOpening(event.state)) {\n",
    "                last_state_index[event.case_id] = { \"name\": event.state.to }\n",
    "                if (isRuntime(event.case_id)) {\n",
    "                    last_state_index[event.case_id].timestamp = event.timestamp\n",
    "                }\n",
    "            }\n",
    "            return null\n",
    "        }\n",
    "        \n",
    "        throw new Error(\"Unknown\")\n",
    "    })\n",
    "    .filter((event) => event !== null)\n",
    "console.log(\"transitions \", transitions)\n"
    ]
  },
  {
   "cell_type": "markdown",
   "metadata": {},
   "source": [
    "The above became the logic for the service. Now I just needed to build a microservice around it."
   ]
  },
  {
   "cell_type": "markdown",
   "metadata": {},
   "source": [
    "> **UPDATE** I ended up making huge changes to the above. It was overly complex and restrictive. Further, the javascript did not port well."
   ]
  }
 ],
 "metadata": {
  "kernelspec": {
   "display_name": "Python 3",
   "language": "python",
   "name": "python3"
  },
  "language_info": {
   "codemirror_mode": {
    "name": "ipython",
    "version": 3
   },
   "file_extension": ".py",
   "mimetype": "text/x-python",
   "name": "python",
   "nbconvert_exporter": "python",
   "pygments_lexer": "ipython3",
   "version": "3.4.3"
  }
 },
 "nbformat": 4,
 "nbformat_minor": 0
}